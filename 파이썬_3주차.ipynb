{
  "cells": [
    {
      "cell_type": "markdown",
      "metadata": {
        "id": "HvSyO-nVCZO4"
      },
      "source": [
        "### 파이썬 3주차: 함수"
      ]
    },
    {
      "cell_type": "markdown",
      "metadata": {
        "id": "wnjs5g_zCiTO"
      },
      "source": [
        "함수의 정의: 어떤 집합의 각 원소를 다른 어떤 집합의 유일한 원소에 대응시키는 이항 관계\n",
        "\n",
        "**파이썬에서의 함수: input 자료를 바탕으로 일련의 output을 return하는 것 (일반적인 목표)**"
      ]
    },
    {
      "cell_type": "code",
      "execution_count": 1,
      "metadata": {
        "id": "Wt5FaosyCWEv"
      },
      "outputs": [],
      "source": [
        "def add(a, b):\n",
        "  return a + b"
      ]
    },
    {
      "cell_type": "code",
      "execution_count": 2,
      "metadata": {
        "colab": {
          "base_uri": "https://localhost:8080/"
        },
        "id": "6y9JR7GwDPPU",
        "outputId": "5d5a8e8e-f681-4acc-aa12-a53bd08d97d9"
      },
      "outputs": [
        {
          "data": {
            "text/plain": [
              "3"
            ]
          },
          "execution_count": 2,
          "metadata": {},
          "output_type": "execute_result"
        }
      ],
      "source": [
        "add(1, 2)"
      ]
    },
    {
      "cell_type": "code",
      "execution_count": 3,
      "metadata": {
        "id": "jR0NB3IgDRdg"
      },
      "outputs": [],
      "source": [
        "def subtract(a, b):\n",
        "  return a - b"
      ]
    },
    {
      "cell_type": "code",
      "execution_count": 4,
      "metadata": {
        "colab": {
          "base_uri": "https://localhost:8080/"
        },
        "id": "YW7t-ZI8DbJO",
        "outputId": "b5eaea62-67fa-4526-ab89-81ed247b1544"
      },
      "outputs": [
        {
          "data": {
            "text/plain": [
              "2"
            ]
          },
          "execution_count": 4,
          "metadata": {},
          "output_type": "execute_result"
        }
      ],
      "source": [
        "subtract(4, 2)"
      ]
    },
    {
      "cell_type": "markdown",
      "metadata": {
        "id": "IU912fWrDi4y"
      },
      "source": [
        "### 함수의 문법\n",
        "def (함수명) (매개변수):\n",
        "\n",
        "&nbsp;&nbsp;&nbsp;&nbsp;&nbsp; (실행할 내용)"
      ]
    },
    {
      "cell_type": "code",
      "execution_count": 5,
      "metadata": {
        "colab": {
          "base_uri": "https://localhost:8080/"
        },
        "id": "-J9o7fhKDdTw",
        "outputId": "059a7a43-79c8-4dd7-8242-680b40be0dfe"
      },
      "outputs": [
        {
          "name": "stdout",
          "output_type": "stream",
          "text": [
            "None\n"
          ]
        }
      ],
      "source": [
        "# 문제 1: 아래 함수의 출력값은?\n",
        "def test1(a, b):\n",
        "  a + b\n",
        "\n",
        "print(test1(1, 2))"
      ]
    },
    {
      "cell_type": "code",
      "execution_count": null,
      "metadata": {
        "colab": {
          "base_uri": "https://localhost:8080/"
        },
        "id": "deIljOlEE11F",
        "outputId": "8bf288a3-b321-4280-ac1a-c59d529bfcac"
      },
      "outputs": [
        {
          "name": "stdout",
          "output_type": "stream",
          "text": [
            "3\n"
          ]
        }
      ],
      "source": [
        "# 문제 2: 아래 함수의 출력값은?\n",
        "def test2(a, b):\n",
        "  print(a + b)\n",
        "\n",
        "test2(1, 2)"
      ]
    },
    {
      "cell_type": "code",
      "execution_count": 7,
      "metadata": {},
      "outputs": [
        {
          "data": {
            "text/plain": [
              "3"
            ]
          },
          "execution_count": 7,
          "metadata": {},
          "output_type": "execute_result"
        }
      ],
      "source": [
        "# 문제 2-1: 아래 함수의 출력값은?\n",
        "def test2_1(a, b):\n",
        "  return (a + b)\n",
        "\n",
        "test2_1(1, 2)\n",
        "\n",
        "# 문제 3: 문제 2와 2-1의 함수들의 차이는 뭘까? -> 고민해보세요"
      ]
    },
    {
      "cell_type": "code",
      "execution_count": 9,
      "metadata": {
        "colab": {
          "base_uri": "https://localhost:8080/"
        },
        "id": "GrMYMjlCvysz",
        "outputId": "ce854b04-8b69-459c-8c11-676acd3bbafb"
      },
      "outputs": [
        {
          "data": {
            "text/plain": [
              "'너 T발 C야?'"
            ]
          },
          "execution_count": 9,
          "metadata": {},
          "output_type": "execute_result"
        }
      ],
      "source": [
        "# 함수에 매개변수가 없어도 된다\n",
        "def test3():\n",
        "  return '너 T발 C야?'\n",
        "\n",
        "test3()"
      ]
    },
    {
      "cell_type": "markdown",
      "metadata": {
        "id": "i9NExqQJIfxj"
      },
      "source": [
        "### Global과 Local의 차이\n",
        "\n",
        "전역변수: 코드 전체에서 사용되는 변수\n",
        "\n",
        "로컬 변수: 함수 내부에서만 사용되는 변수"
      ]
    },
    {
      "cell_type": "code",
      "execution_count": 13,
      "metadata": {
        "colab": {
          "base_uri": "https://localhost:8080/"
        },
        "id": "weAQOo_xIiSz",
        "outputId": "2a95d7ce-55f6-46d0-ebc9-44f6b84d676c"
      },
      "outputs": [
        {
          "name": "stdout",
          "output_type": "stream",
          "text": [
            "1\n",
            "1\n"
          ]
        }
      ],
      "source": [
        "# a => 전역변수\n",
        "a = 1\n",
        "def rtn_a ():\n",
        "  return a\n",
        "\n",
        "print(rtn_a())\n",
        "print(a)"
      ]
    },
    {
      "cell_type": "code",
      "execution_count": 12,
      "metadata": {
        "id": "s21nSTTHIzRF"
      },
      "outputs": [
        {
          "ename": "NameError",
          "evalue": "name 'b' is not defined",
          "output_type": "error",
          "traceback": [
            "\u001b[0;31m---------------------------------------------------------------------------\u001b[0m",
            "\u001b[0;31mNameError\u001b[0m                                 Traceback (most recent call last)",
            "Cell \u001b[0;32mIn[12], line 4\u001b[0m\n\u001b[1;32m      1\u001b[0m \u001b[39mdef\u001b[39;00m \u001b[39mrtn_b\u001b[39m ():\n\u001b[1;32m      2\u001b[0m   b \u001b[39m=\u001b[39m \u001b[39m1\u001b[39m\n\u001b[0;32m----> 4\u001b[0m \u001b[39mprint\u001b[39m(b) \u001b[39m#에러 발생\u001b[39;00m\n",
            "\u001b[0;31mNameError\u001b[0m: name 'b' is not defined"
          ]
        }
      ],
      "source": [
        "# b => 지역변수\n",
        "def rtn_b ():\n",
        "  b = 1\n",
        "\n",
        "print(b) #에러 발생"
      ]
    },
    {
      "cell_type": "code",
      "execution_count": 14,
      "metadata": {
        "colab": {
          "base_uri": "https://localhost:8080/"
        },
        "id": "-UoI2NT4N0K7",
        "outputId": "cd8e74aa-868a-438d-a8c0-d1a1d6d45957"
      },
      "outputs": [
        {
          "name": "stdout",
          "output_type": "stream",
          "text": [
            "1\n",
            "10\n"
          ]
        }
      ],
      "source": [
        "# 전역변수 a가 1 -> 10 재정의 된다\n",
        "a = 1\n",
        "print(a)\n",
        "\n",
        "def rtn_a():\n",
        "  a = 10\n",
        "  return a\n",
        "\n",
        "a = rtn_a()\n",
        "print(a)"
      ]
    },
    {
      "cell_type": "code",
      "execution_count": 15,
      "metadata": {
        "colab": {
          "base_uri": "https://localhost:8080/"
        },
        "id": "6Y4neZx-wxe0",
        "outputId": "b2c01650-2d43-495d-af71-fdb51ee61d7c"
      },
      "outputs": [
        {
          "name": "stdout",
          "output_type": "stream",
          "text": [
            "1\n",
            "10\n"
          ]
        }
      ],
      "source": [
        "a = 1\n",
        "print(a)\n",
        "\n",
        "def rtn_a():\n",
        "  a = 10\n",
        "  print(a)\n",
        "\n",
        "rtn_a()"
      ]
    },
    {
      "cell_type": "markdown",
      "metadata": {
        "id": "YBy5u31VIR35"
      },
      "source": [
        "### print와 return의 차이"
      ]
    },
    {
      "cell_type": "markdown",
      "metadata": {
        "id": "Y1oQMO2fIZwL"
      },
      "source": [
        "return은 함수 안에서만 사용됨 -> 함수 내부의 결과값을 함수 밖으로 내보내는 역할\n",
        "\n",
        "print는 출력 함수, 결과값을 내보내주지 못함"
      ]
    },
    {
      "cell_type": "code",
      "execution_count": 16,
      "metadata": {
        "colab": {
          "base_uri": "https://localhost:8080/",
          "height": 136
        },
        "id": "iCYZGYBOIVTA",
        "outputId": "20d36738-f4e4-4bc6-a59f-59ee6c7e785b"
      },
      "outputs": [
        {
          "ename": "SyntaxError",
          "evalue": "'return' outside function (467879276.py, line 1)",
          "output_type": "error",
          "traceback": [
            "\u001b[0;36m  Cell \u001b[0;32mIn[16], line 1\u001b[0;36m\u001b[0m\n\u001b[0;31m    return 1\u001b[0m\n\u001b[0m    ^\u001b[0m\n\u001b[0;31mSyntaxError\u001b[0m\u001b[0;31m:\u001b[0m 'return' outside function\n"
          ]
        }
      ],
      "source": [
        "return 1"
      ]
    },
    {
      "cell_type": "code",
      "execution_count": 17,
      "metadata": {
        "id": "01EKxdEYIYLN"
      },
      "outputs": [],
      "source": [
        "def printing (a, b):\n",
        "  print(a + b)\n",
        "\n",
        "def returning (a, b):\n",
        "  return a + b"
      ]
    },
    {
      "cell_type": "code",
      "execution_count": 19,
      "metadata": {
        "colab": {
          "base_uri": "https://localhost:8080/"
        },
        "id": "K3l_Gbr1JaPw",
        "outputId": "54668fe8-0e99-433b-b4dd-7fba86605479"
      },
      "outputs": [
        {
          "name": "stdout",
          "output_type": "stream",
          "text": [
            "3\n",
            "None\n"
          ]
        }
      ],
      "source": [
        "printing_result = printing(1, 2)\n",
        "print(printing_result) # None 출력"
      ]
    },
    {
      "cell_type": "code",
      "execution_count": 20,
      "metadata": {
        "colab": {
          "base_uri": "https://localhost:8080/"
        },
        "id": "C2dHtrsaJfr_",
        "outputId": "cc0c5633-a878-427c-bbd1-0d44b9617db6"
      },
      "outputs": [
        {
          "name": "stdout",
          "output_type": "stream",
          "text": [
            "3\n"
          ]
        }
      ],
      "source": [
        "returning_result = returning(1, 2)\n",
        "print(returning_result) # 3 출력"
      ]
    },
    {
      "cell_type": "markdown",
      "metadata": {
        "id": "TVb_LFGMK7_9"
      },
      "source": [
        "여러 변수를 return 해줄 수 있다"
      ]
    },
    {
      "cell_type": "code",
      "execution_count": 21,
      "metadata": {
        "colab": {
          "base_uri": "https://localhost:8080/"
        },
        "id": "4gv0NVpoK-E6",
        "outputId": "3f123a77-a621-4ead-bf58-7feea7797db3"
      },
      "outputs": [
        {
          "name": "stdout",
          "output_type": "stream",
          "text": [
            "add is 14\n",
            "subtract is 6\n",
            "multiple is 40\n"
          ]
        }
      ],
      "source": [
        "def multi_return (a, b):\n",
        "  return a+b, a-b, a*b\n",
        "\n",
        "add, subtract, multiple = multi_return(10, 4)\n",
        "\n",
        "print(f\"add is {add}\")\n",
        "print(f\"subtract is {subtract}\")\n",
        "print(f\"multiple is {multiple}\")"
      ]
    },
    {
      "cell_type": "code",
      "execution_count": 22,
      "metadata": {
        "colab": {
          "base_uri": "https://localhost:8080/"
        },
        "id": "VPo3bmaqLVHU",
        "outputId": "035d07b4-5e90-4045-b183-927d237ba562"
      },
      "outputs": [
        {
          "name": "stdout",
          "output_type": "stream",
          "text": [
            "14\n",
            "6\n",
            "40\n"
          ]
        }
      ],
      "source": [
        "print(add)\n",
        "print(subtract)\n",
        "print(multiple)"
      ]
    },
    {
      "cell_type": "markdown",
      "metadata": {
        "id": "wJ4o_2gLLlHP"
      },
      "source": [
        "### 입력 값이 몇 개가 될 지 모를 때\n",
        "입력 값의 개수가 정해져 있지 않다면?\n",
        "\n",
        "*args를 이용하자\n",
        "\n",
        "이해 난이도 높음"
      ]
    },
    {
      "cell_type": "code",
      "execution_count": 23,
      "metadata": {
        "colab": {
          "base_uri": "https://localhost:8080/"
        },
        "id": "LxUev34fL0D4",
        "outputId": "23281dcf-b765-4e88-d3d1-0dda8da7ae73"
      },
      "outputs": [
        {
          "name": "stdout",
          "output_type": "stream",
          "text": [
            "8\n",
            "10\n"
          ]
        }
      ],
      "source": [
        "# 입력값의 개수를 세는 함수를 만들고 싶다면\n",
        "\n",
        "def counting (*args):\n",
        "  count = 0\n",
        "  for i in args:\n",
        "    count = count + 1\n",
        "  return count\n",
        "\n",
        "\n",
        "print(counting(0,0,0,0,0,0,0,0))\n",
        "print(counting(1,3,21,421,4,214,21,4,214,12))"
      ]
    },
    {
      "cell_type": "code",
      "execution_count": 24,
      "metadata": {
        "colab": {
          "base_uri": "https://localhost:8080/"
        },
        "id": "CrfJb04PyipP",
        "outputId": "1be9a6b5-5444-440b-b18c-0b7956c7a695"
      },
      "outputs": [
        {
          "name": "stdout",
          "output_type": "stream",
          "text": [
            "(1, 2, 3, 4)\n"
          ]
        }
      ],
      "source": [
        "def show_args(*args):\n",
        "  return (args)\n",
        "\n",
        "print(show_args(1, 2, 3, 4))"
      ]
    },
    {
      "cell_type": "code",
      "execution_count": 25,
      "metadata": {
        "colab": {
          "base_uri": "https://localhost:8080/"
        },
        "id": "jfL8a52lMPFV",
        "outputId": "35523e0c-f032-4cea-cc9b-d0cf5af9a436"
      },
      "outputs": [
        {
          "name": "stdout",
          "output_type": "stream",
          "text": [
            "15\n",
            "54\n"
          ]
        }
      ],
      "source": [
        "# 입력값을 모두 더하는 함수를 만들고 싶다면\n",
        "\n",
        "def adding (*args):\n",
        "  result = 0\n",
        "  for i in args:\n",
        "    result += i\n",
        "  return result\n",
        "\n",
        "print(adding(1,2,3,4,5))\n",
        "print(adding(3,2,2,2,2,2,2,2,21,1,6,9))"
      ]
    },
    {
      "cell_type": "markdown",
      "metadata": {
        "id": "4OjwWAEjMv3n"
      },
      "source": [
        "### 함수의 매개변수 지정\n",
        "미리 함수의 매개변수를 지정하거나\n",
        "\n",
        "인수를 특정 매개변수로 지정가능"
      ]
    },
    {
      "cell_type": "code",
      "execution_count": 26,
      "metadata": {
        "colab": {
          "base_uri": "https://localhost:8080/"
        },
        "id": "d3iX7ZAKM8WW",
        "outputId": "bf3edfde-4c93-4a97-947c-7385edec5c99"
      },
      "outputs": [
        {
          "name": "stdout",
          "output_type": "stream",
          "text": [
            "8\n",
            "16\n"
          ]
        }
      ],
      "source": [
        "def adding (a, b=3):\n",
        "  return a + b\n",
        "\n",
        "\n",
        "print(adding(5))\n",
        "print(adding(6, 10))"
      ]
    },
    {
      "cell_type": "code",
      "execution_count": 27,
      "metadata": {
        "colab": {
          "base_uri": "https://localhost:8080/"
        },
        "id": "QtEmkjBTNbtb",
        "outputId": "66ac95a2-ef22-483b-8539-6172d24ac4b7"
      },
      "outputs": [
        {
          "name": "stdout",
          "output_type": "stream",
          "text": [
            "4\n",
            "-4\n"
          ]
        }
      ],
      "source": [
        "def subtract (a, b):\n",
        "  return a - b\n",
        "\n",
        "\n",
        "print(subtract(5, 1))\n",
        "print(subtract(b=5, a=1))"
      ]
    },
    {
      "cell_type": "markdown",
      "metadata": {
        "id": "kubO5FWCOF08"
      },
      "source": [
        "### 임의 함수 lambda\n",
        "함수명 = lambda 매개변수1, 매개변수2, ... : 매개변수를 이용한 표현식\n",
        "\n",
        "def 사용하지 않아도 될 정도로 간단하거나 def를 사용할 수 없는 곳에 사용"
      ]
    },
    {
      "cell_type": "code",
      "execution_count": 28,
      "metadata": {
        "colab": {
          "base_uri": "https://localhost:8080/"
        },
        "id": "gpJm1DQWOJm0",
        "outputId": "1846437a-8adf-48b2-845c-1d7714639752"
      },
      "outputs": [
        {
          "name": "stdout",
          "output_type": "stream",
          "text": [
            "3\n"
          ]
        }
      ],
      "source": [
        "adding = lambda a, b: a + b\n",
        "\n",
        "print(adding(1, 2))"
      ]
    },
    {
      "cell_type": "markdown",
      "metadata": {
        "id": "yq8yl5_WOfxg"
      },
      "source": [
        "lambda로 만든 함수는 return 명령어가 없어도 결과값을 리턴"
      ]
    },
    {
      "cell_type": "code",
      "execution_count": 29,
      "metadata": {
        "id": "4TrjmzpbObL6"
      },
      "outputs": [],
      "source": [
        "args_adding = lambda *args: sum(args)"
      ]
    },
    {
      "cell_type": "code",
      "execution_count": 30,
      "metadata": {
        "colab": {
          "base_uri": "https://localhost:8080/"
        },
        "id": "q2lpKyNxPFwm",
        "outputId": "2108b39a-7ecd-41a8-e336-0691822b209d"
      },
      "outputs": [
        {
          "name": "stdout",
          "output_type": "stream",
          "text": [
            "1212\n"
          ]
        }
      ],
      "source": [
        "print(args_adding(1,23,3,4,4,5,2,523,53,25,32,532,5))"
      ]
    },
    {
      "cell_type": "markdown",
      "metadata": {
        "id": "KfGbIZ5udemn"
      },
      "source": [
        "# 백준 문제 풀이\n",
        "정수 N개의 합 [15596] : https://www.acmicpc.net/problem/15596\n",
        "\n",
        "셀프 넘버 [4673] : https://www.acmicpc.net/problem/4673\n"
      ]
    },
    {
      "cell_type": "code",
      "execution_count": 31,
      "metadata": {},
      "outputs": [],
      "source": [
        "# [15596] 풀이 과정\n",
        "\n",
        "def solve(a):\n",
        "    return sum (a)\n",
        "\n",
        "이게 맞나.. 너무 쉽게짠 것 같아 의심이 듬,,,"
      ]
    },
    {
      "cell_type": "code",
      "execution_count": 1,
      "metadata": {},
      "outputs": [
        {
          "name": "stdout",
          "output_type": "stream",
          "text": [
            "1\n",
            "3\n",
            "5\n",
            "7\n",
            "9\n",
            "20\n",
            "31\n",
            "42\n",
            "53\n",
            "64\n",
            "75\n",
            "86\n",
            "97\n",
            "108\n",
            "110\n",
            "121\n",
            "132\n",
            "143\n",
            "154\n",
            "165\n",
            "176\n",
            "187\n",
            "198\n",
            "209\n",
            "211\n",
            "222\n",
            "233\n",
            "244\n",
            "255\n",
            "266\n",
            "277\n",
            "288\n",
            "299\n",
            "310\n",
            "312\n",
            "323\n",
            "334\n",
            "345\n",
            "356\n",
            "367\n",
            "378\n",
            "389\n",
            "400\n",
            "411\n",
            "413\n",
            "424\n",
            "435\n",
            "446\n",
            "457\n",
            "468\n",
            "479\n",
            "490\n",
            "501\n",
            "512\n",
            "514\n",
            "525\n",
            "536\n",
            "547\n",
            "558\n",
            "569\n",
            "580\n",
            "591\n",
            "602\n",
            "613\n",
            "615\n",
            "626\n",
            "637\n",
            "648\n",
            "659\n",
            "670\n",
            "681\n",
            "692\n",
            "703\n",
            "714\n",
            "716\n",
            "727\n",
            "738\n",
            "749\n",
            "760\n",
            "771\n",
            "782\n",
            "793\n",
            "804\n",
            "815\n",
            "817\n",
            "828\n",
            "839\n",
            "850\n",
            "861\n",
            "872\n",
            "883\n",
            "894\n",
            "905\n",
            "916\n",
            "918\n",
            "929\n",
            "940\n",
            "951\n",
            "962\n",
            "973\n",
            "984\n",
            "995\n",
            "1006\n",
            "1021\n",
            "1032\n",
            "1043\n",
            "1054\n",
            "1065\n",
            "1076\n",
            "1087\n",
            "1098\n",
            "1109\n",
            "1111\n",
            "1122\n",
            "1133\n",
            "1144\n",
            "1155\n",
            "1166\n",
            "1177\n",
            "1188\n",
            "1199\n",
            "1210\n",
            "1212\n",
            "1223\n",
            "1234\n",
            "1245\n",
            "1256\n",
            "1267\n",
            "1278\n",
            "1289\n",
            "1300\n",
            "1311\n",
            "1313\n",
            "1324\n",
            "1335\n",
            "1346\n",
            "1357\n",
            "1368\n",
            "1379\n",
            "1390\n",
            "1401\n",
            "1412\n",
            "1414\n",
            "1425\n",
            "1436\n",
            "1447\n",
            "1458\n",
            "1469\n",
            "1480\n",
            "1491\n",
            "1502\n",
            "1513\n",
            "1515\n",
            "1526\n",
            "1537\n",
            "1548\n",
            "1559\n",
            "1570\n",
            "1581\n",
            "1592\n",
            "1603\n",
            "1614\n",
            "1616\n",
            "1627\n",
            "1638\n",
            "1649\n",
            "1660\n",
            "1671\n",
            "1682\n",
            "1693\n",
            "1704\n",
            "1715\n",
            "1717\n",
            "1728\n",
            "1739\n",
            "1750\n",
            "1761\n",
            "1772\n",
            "1783\n",
            "1794\n",
            "1805\n",
            "1816\n",
            "1818\n",
            "1829\n",
            "1840\n",
            "1851\n",
            "1862\n",
            "1873\n",
            "1884\n",
            "1895\n",
            "1906\n",
            "1917\n",
            "1919\n",
            "1930\n",
            "1941\n",
            "1952\n",
            "1963\n",
            "1974\n",
            "1985\n",
            "1996\n",
            "2007\n",
            "2022\n",
            "2033\n",
            "2044\n",
            "2055\n",
            "2066\n",
            "2077\n",
            "2088\n",
            "2099\n",
            "2110\n",
            "2112\n",
            "2123\n",
            "2134\n",
            "2145\n",
            "2156\n",
            "2167\n",
            "2178\n",
            "2189\n",
            "2200\n",
            "2211\n",
            "2213\n",
            "2224\n",
            "2235\n",
            "2246\n",
            "2257\n",
            "2268\n",
            "2279\n",
            "2290\n",
            "2301\n",
            "2312\n",
            "2314\n",
            "2325\n",
            "2336\n",
            "2347\n",
            "2358\n",
            "2369\n",
            "2380\n",
            "2391\n",
            "2402\n",
            "2413\n",
            "2415\n",
            "2426\n",
            "2437\n",
            "2448\n",
            "2459\n",
            "2470\n",
            "2481\n",
            "2492\n",
            "2503\n",
            "2514\n",
            "2516\n",
            "2527\n",
            "2538\n",
            "2549\n",
            "2560\n",
            "2571\n",
            "2582\n",
            "2593\n",
            "2604\n",
            "2615\n",
            "2617\n",
            "2628\n",
            "2639\n",
            "2650\n",
            "2661\n",
            "2672\n",
            "2683\n",
            "2694\n",
            "2705\n",
            "2716\n",
            "2718\n",
            "2729\n",
            "2740\n",
            "2751\n",
            "2762\n",
            "2773\n",
            "2784\n",
            "2795\n",
            "2806\n",
            "2817\n",
            "2819\n",
            "2830\n",
            "2841\n",
            "2852\n",
            "2863\n",
            "2874\n",
            "2885\n",
            "2896\n",
            "2907\n",
            "2918\n",
            "2920\n",
            "2931\n",
            "2942\n",
            "2953\n",
            "2964\n",
            "2975\n",
            "2986\n",
            "2997\n",
            "3008\n",
            "3023\n",
            "3034\n",
            "3045\n",
            "3056\n",
            "3067\n",
            "3078\n",
            "3089\n",
            "3100\n",
            "3111\n",
            "3113\n",
            "3124\n",
            "3135\n",
            "3146\n",
            "3157\n",
            "3168\n",
            "3179\n",
            "3190\n",
            "3201\n",
            "3212\n",
            "3214\n",
            "3225\n",
            "3236\n",
            "3247\n",
            "3258\n",
            "3269\n",
            "3280\n",
            "3291\n",
            "3302\n",
            "3313\n",
            "3315\n",
            "3326\n",
            "3337\n",
            "3348\n",
            "3359\n",
            "3370\n",
            "3381\n",
            "3392\n",
            "3403\n",
            "3414\n",
            "3416\n",
            "3427\n",
            "3438\n",
            "3449\n",
            "3460\n",
            "3471\n",
            "3482\n",
            "3493\n",
            "3504\n",
            "3515\n",
            "3517\n",
            "3528\n",
            "3539\n",
            "3550\n",
            "3561\n",
            "3572\n",
            "3583\n",
            "3594\n",
            "3605\n",
            "3616\n",
            "3618\n",
            "3629\n",
            "3640\n",
            "3651\n",
            "3662\n",
            "3673\n",
            "3684\n",
            "3695\n",
            "3706\n",
            "3717\n",
            "3719\n",
            "3730\n",
            "3741\n",
            "3752\n",
            "3763\n",
            "3774\n",
            "3785\n",
            "3796\n",
            "3807\n",
            "3818\n",
            "3820\n",
            "3831\n",
            "3842\n",
            "3853\n",
            "3864\n",
            "3875\n",
            "3886\n",
            "3897\n",
            "3908\n",
            "3919\n",
            "3921\n",
            "3932\n",
            "3943\n",
            "3954\n",
            "3965\n",
            "3976\n",
            "3987\n",
            "3998\n",
            "4009\n",
            "4024\n",
            "4035\n",
            "4046\n",
            "4057\n",
            "4068\n",
            "4079\n",
            "4090\n",
            "4101\n",
            "4112\n",
            "4114\n",
            "4125\n",
            "4136\n",
            "4147\n",
            "4158\n",
            "4169\n",
            "4180\n",
            "4191\n",
            "4202\n",
            "4213\n",
            "4215\n",
            "4226\n",
            "4237\n",
            "4248\n",
            "4259\n",
            "4270\n",
            "4281\n",
            "4292\n",
            "4303\n",
            "4314\n",
            "4316\n",
            "4327\n",
            "4338\n",
            "4349\n",
            "4360\n",
            "4371\n",
            "4382\n",
            "4393\n",
            "4404\n",
            "4415\n",
            "4417\n",
            "4428\n",
            "4439\n",
            "4450\n",
            "4461\n",
            "4472\n",
            "4483\n",
            "4494\n",
            "4505\n",
            "4516\n",
            "4518\n",
            "4529\n",
            "4540\n",
            "4551\n",
            "4562\n",
            "4573\n",
            "4584\n",
            "4595\n",
            "4606\n",
            "4617\n",
            "4619\n",
            "4630\n",
            "4641\n",
            "4652\n",
            "4663\n",
            "4674\n",
            "4685\n",
            "4696\n",
            "4707\n",
            "4718\n",
            "4720\n",
            "4731\n",
            "4742\n",
            "4753\n",
            "4764\n",
            "4775\n",
            "4786\n",
            "4797\n",
            "4808\n",
            "4819\n",
            "4821\n",
            "4832\n",
            "4843\n",
            "4854\n",
            "4865\n",
            "4876\n",
            "4887\n",
            "4898\n",
            "4909\n",
            "4920\n",
            "4922\n",
            "4933\n",
            "4944\n",
            "4955\n",
            "4966\n",
            "4977\n",
            "4988\n",
            "4999\n",
            "5010\n",
            "5025\n",
            "5036\n",
            "5047\n",
            "5058\n",
            "5069\n",
            "5080\n",
            "5091\n",
            "5102\n",
            "5113\n",
            "5115\n",
            "5126\n",
            "5137\n",
            "5148\n",
            "5159\n",
            "5170\n",
            "5181\n",
            "5192\n",
            "5203\n",
            "5214\n",
            "5216\n",
            "5227\n",
            "5238\n",
            "5249\n",
            "5260\n",
            "5271\n",
            "5282\n",
            "5293\n",
            "5304\n",
            "5315\n",
            "5317\n",
            "5328\n",
            "5339\n",
            "5350\n",
            "5361\n",
            "5372\n",
            "5383\n",
            "5394\n",
            "5405\n",
            "5416\n",
            "5418\n",
            "5429\n",
            "5440\n",
            "5451\n",
            "5462\n",
            "5473\n",
            "5484\n",
            "5495\n",
            "5506\n",
            "5517\n",
            "5519\n",
            "5530\n",
            "5541\n",
            "5552\n",
            "5563\n",
            "5574\n",
            "5585\n",
            "5596\n",
            "5607\n",
            "5618\n",
            "5620\n",
            "5631\n",
            "5642\n",
            "5653\n",
            "5664\n",
            "5675\n",
            "5686\n",
            "5697\n",
            "5708\n",
            "5719\n",
            "5721\n",
            "5732\n",
            "5743\n",
            "5754\n",
            "5765\n",
            "5776\n",
            "5787\n",
            "5798\n",
            "5809\n",
            "5820\n",
            "5822\n",
            "5833\n",
            "5844\n",
            "5855\n",
            "5866\n",
            "5877\n",
            "5888\n",
            "5899\n",
            "5910\n",
            "5921\n",
            "5923\n",
            "5934\n",
            "5945\n",
            "5956\n",
            "5967\n",
            "5978\n",
            "5989\n",
            "6000\n",
            "6011\n",
            "6026\n",
            "6037\n",
            "6048\n",
            "6059\n",
            "6070\n",
            "6081\n",
            "6092\n",
            "6103\n",
            "6114\n",
            "6116\n",
            "6127\n",
            "6138\n",
            "6149\n",
            "6160\n",
            "6171\n",
            "6182\n",
            "6193\n",
            "6204\n",
            "6215\n",
            "6217\n",
            "6228\n",
            "6239\n",
            "6250\n",
            "6261\n",
            "6272\n",
            "6283\n",
            "6294\n",
            "6305\n",
            "6316\n",
            "6318\n",
            "6329\n",
            "6340\n",
            "6351\n",
            "6362\n",
            "6373\n",
            "6384\n",
            "6395\n",
            "6406\n",
            "6417\n",
            "6419\n",
            "6430\n",
            "6441\n",
            "6452\n",
            "6463\n",
            "6474\n",
            "6485\n",
            "6496\n",
            "6507\n",
            "6518\n",
            "6520\n",
            "6531\n",
            "6542\n",
            "6553\n",
            "6564\n",
            "6575\n",
            "6586\n",
            "6597\n",
            "6608\n",
            "6619\n",
            "6621\n",
            "6632\n",
            "6643\n",
            "6654\n",
            "6665\n",
            "6676\n",
            "6687\n",
            "6698\n",
            "6709\n",
            "6720\n",
            "6722\n",
            "6733\n",
            "6744\n",
            "6755\n",
            "6766\n",
            "6777\n",
            "6788\n",
            "6799\n",
            "6810\n",
            "6821\n",
            "6823\n",
            "6834\n",
            "6845\n",
            "6856\n",
            "6867\n",
            "6878\n",
            "6889\n",
            "6900\n",
            "6911\n",
            "6922\n",
            "6924\n",
            "6935\n",
            "6946\n",
            "6957\n",
            "6968\n",
            "6979\n",
            "6990\n",
            "7001\n",
            "7012\n",
            "7027\n",
            "7038\n",
            "7049\n",
            "7060\n",
            "7071\n",
            "7082\n",
            "7093\n",
            "7104\n",
            "7115\n",
            "7117\n",
            "7128\n",
            "7139\n",
            "7150\n",
            "7161\n",
            "7172\n",
            "7183\n",
            "7194\n",
            "7205\n",
            "7216\n",
            "7218\n",
            "7229\n",
            "7240\n",
            "7251\n",
            "7262\n",
            "7273\n",
            "7284\n",
            "7295\n",
            "7306\n",
            "7317\n",
            "7319\n",
            "7330\n",
            "7341\n",
            "7352\n",
            "7363\n",
            "7374\n",
            "7385\n",
            "7396\n",
            "7407\n",
            "7418\n",
            "7420\n",
            "7431\n",
            "7442\n",
            "7453\n",
            "7464\n",
            "7475\n",
            "7486\n",
            "7497\n",
            "7508\n",
            "7519\n",
            "7521\n",
            "7532\n",
            "7543\n",
            "7554\n",
            "7565\n",
            "7576\n",
            "7587\n",
            "7598\n",
            "7609\n",
            "7620\n",
            "7622\n",
            "7633\n",
            "7644\n",
            "7655\n",
            "7666\n",
            "7677\n",
            "7688\n",
            "7699\n",
            "7710\n",
            "7721\n",
            "7723\n",
            "7734\n",
            "7745\n",
            "7756\n",
            "7767\n",
            "7778\n",
            "7789\n",
            "7800\n",
            "7811\n",
            "7822\n",
            "7824\n",
            "7835\n",
            "7846\n",
            "7857\n",
            "7868\n",
            "7879\n",
            "7890\n",
            "7901\n",
            "7912\n",
            "7923\n",
            "7925\n",
            "7936\n",
            "7947\n",
            "7958\n",
            "7969\n",
            "7980\n",
            "7991\n",
            "8002\n",
            "8013\n",
            "8028\n",
            "8039\n",
            "8050\n",
            "8061\n",
            "8072\n",
            "8083\n",
            "8094\n",
            "8105\n",
            "8116\n",
            "8118\n",
            "8129\n",
            "8140\n",
            "8151\n",
            "8162\n",
            "8173\n",
            "8184\n",
            "8195\n",
            "8206\n",
            "8217\n",
            "8219\n",
            "8230\n",
            "8241\n",
            "8252\n",
            "8263\n",
            "8274\n",
            "8285\n",
            "8296\n",
            "8307\n",
            "8318\n",
            "8320\n",
            "8331\n",
            "8342\n",
            "8353\n",
            "8364\n",
            "8375\n",
            "8386\n",
            "8397\n",
            "8408\n",
            "8419\n",
            "8421\n",
            "8432\n",
            "8443\n",
            "8454\n",
            "8465\n",
            "8476\n",
            "8487\n",
            "8498\n",
            "8509\n",
            "8520\n",
            "8522\n",
            "8533\n",
            "8544\n",
            "8555\n",
            "8566\n",
            "8577\n",
            "8588\n",
            "8599\n",
            "8610\n",
            "8621\n",
            "8623\n",
            "8634\n",
            "8645\n",
            "8656\n",
            "8667\n",
            "8678\n",
            "8689\n",
            "8700\n",
            "8711\n",
            "8722\n",
            "8724\n",
            "8735\n",
            "8746\n",
            "8757\n",
            "8768\n",
            "8779\n",
            "8790\n",
            "8801\n",
            "8812\n",
            "8823\n",
            "8825\n",
            "8836\n",
            "8847\n",
            "8858\n",
            "8869\n",
            "8880\n",
            "8891\n",
            "8902\n",
            "8913\n",
            "8924\n",
            "8926\n",
            "8937\n",
            "8948\n",
            "8959\n",
            "8970\n",
            "8981\n",
            "8992\n",
            "9003\n",
            "9014\n",
            "9029\n",
            "9040\n",
            "9051\n",
            "9062\n",
            "9073\n",
            "9084\n",
            "9095\n",
            "9106\n",
            "9117\n",
            "9119\n",
            "9130\n",
            "9141\n",
            "9152\n",
            "9163\n",
            "9174\n",
            "9185\n",
            "9196\n",
            "9207\n",
            "9218\n",
            "9220\n",
            "9231\n",
            "9242\n",
            "9253\n",
            "9264\n",
            "9275\n",
            "9286\n",
            "9297\n",
            "9308\n",
            "9319\n",
            "9321\n",
            "9332\n",
            "9343\n",
            "9354\n",
            "9365\n",
            "9376\n",
            "9387\n",
            "9398\n",
            "9409\n",
            "9420\n",
            "9422\n",
            "9433\n",
            "9444\n",
            "9455\n",
            "9466\n",
            "9477\n",
            "9488\n",
            "9499\n",
            "9510\n",
            "9521\n",
            "9523\n",
            "9534\n",
            "9545\n",
            "9556\n",
            "9567\n",
            "9578\n",
            "9589\n",
            "9600\n",
            "9611\n",
            "9622\n",
            "9624\n",
            "9635\n",
            "9646\n",
            "9657\n",
            "9668\n",
            "9679\n",
            "9690\n",
            "9701\n",
            "9712\n",
            "9723\n",
            "9725\n",
            "9736\n",
            "9747\n",
            "9758\n",
            "9769\n",
            "9780\n",
            "9791\n",
            "9802\n",
            "9813\n",
            "9824\n",
            "9826\n",
            "9837\n",
            "9848\n",
            "9859\n",
            "9870\n",
            "9881\n",
            "9892\n",
            "9903\n",
            "9914\n",
            "9925\n",
            "9927\n",
            "9938\n",
            "9949\n",
            "9960\n",
            "9971\n",
            "9982\n",
            "9993\n"
          ]
        }
      ],
      "source": [
        "# [4673] 풀이 과정\n",
        "\n",
        "def D(n) :\n",
        "    n = n + sum(map(int, str(n)))\n",
        "    return n\n",
        "\n",
        "num = set(range(1,10001))\n",
        "non_self_num = set()\n",
        "\n",
        "for i in range (1, 10001) :\n",
        "    non_self_num.add(D(i))\n",
        "    \n",
        "self_num = num - non_self_num\n",
        "for i in sorted (self_num) :\n",
        "    print (i)\n",
        "\n"
      ]
    },
    {
      "cell_type": "code",
      "execution_count": null,
      "metadata": {},
      "outputs": [],
      "source": []
    }
  ],
  "metadata": {
    "colab": {
      "provenance": []
    },
    "kernelspec": {
      "display_name": "Python 3",
      "name": "python3"
    },
    "language_info": {
      "codemirror_mode": {
        "name": "ipython",
        "version": 3
      },
      "file_extension": ".py",
      "mimetype": "text/x-python",
      "name": "python",
      "nbconvert_exporter": "python",
      "pygments_lexer": "ipython3",
      "version": "3.10.8"
    }
  },
  "nbformat": 4,
  "nbformat_minor": 0
}
